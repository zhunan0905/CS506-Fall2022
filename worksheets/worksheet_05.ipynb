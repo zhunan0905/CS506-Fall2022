{
 "cells": [
  {
   "cell_type": "markdown",
   "metadata": {},
   "source": [
    "# Worksheet 05\n",
    "\n",
    "Name:  \n",
    "UID: \n",
    "\n",
    "### Topics\n",
    "\n",
    "- Hierarchical Clustering\n",
    "\n",
    "### Hierarchical Clustering\n",
    "\n",
    "Using the following dataset:\n",
    "\n",
    "| Point | x | y |\n",
    "|-------|---|---|\n",
    "| A     | 0 | 0 |\n",
    "| B     | 1 | 1 |\n",
    "| C     | 3 | 0 |\n",
    "| D     | 0 | 1 |\n",
    "| E     | 2 | 2 |\n",
    "\n",
    "with\n",
    "\n",
    "d = Euclidean  \n",
    "D = Single-Link\n",
    "\n",
    "produce the distance matrix at every step of the hierarchical clustering algorithm."
   ]
  },
  {
   "cell_type": "markdown",
   "metadata": {},
   "source": [
    "Step 1\n",
    "\n",
    "|   | A | B | C | D | E |\n",
    "|---|---|---|---|---|---|\n",
    "| A | 0 |   |   |   |   |\n",
    "| B |   | 0 |   |   |   |\n",
    "| C |   |   | 0 |   |   |\n",
    "| D |   |   |   | 0 |   |\n",
    "| E |   |   |   |   | 0 |"
   ]
  },
  {
   "cell_type": "markdown",
   "metadata": {},
   "source": [
    "Step 2\n",
    "\n",
    "|   |   |   |   |   |\n",
    "|---|---|---|---|---|\n",
    "|   | 0 |   |   |   |\n",
    "|   |   | 0 |   |   |\n",
    "|   |   |   | 0 |   |\n",
    "|   |   |   |   | 0 |"
   ]
  },
  {
   "cell_type": "markdown",
   "metadata": {},
   "source": [
    "Step 3\n",
    "\n",
    "|   |   |   |   |\n",
    "|---|---|---|---|\n",
    "|   | 0 |   |   |\n",
    "|   |   | 0 |   |\n",
    "|   |   |   | 0 |"
   ]
  },
  {
   "cell_type": "markdown",
   "metadata": {},
   "source": [
    "Step 4\n",
    "\n",
    "|   |   |   |\n",
    "|---|---|---|\n",
    "|   | 0 |   |\n",
    "|   |   | 0 |"
   ]
  },
  {
   "cell_type": "markdown",
   "metadata": {},
   "source": [
    "Repeat the above with\n",
    "\n",
    "d = Euclidean  \n",
    "D = Complete-Link"
   ]
  },
  {
   "cell_type": "markdown",
   "metadata": {},
   "source": [
    "Step 1\n",
    "\n",
    "|   | A | B | C | D | E |\n",
    "|---|---|---|---|---|---|\n",
    "| A | 0 |   |   |   |   |\n",
    "| B |   | 0 |   |   |   |\n",
    "| C |   |   | 0 |   |   |\n",
    "| D |   |   |   | 0 |   |\n",
    "| E |   |   |   |   | 0 |"
   ]
  },
  {
   "cell_type": "markdown",
   "metadata": {},
   "source": [
    "Step 2\n",
    "\n",
    "|   |   |   |   |   |\n",
    "|---|---|---|---|---|\n",
    "|   | 0 |   |   |   |\n",
    "|   |   | 0 |   |   |\n",
    "|   |   |   | 0 |   |\n",
    "|   |   |   |   | 0 |"
   ]
  },
  {
   "cell_type": "markdown",
   "metadata": {},
   "source": [
    "Step 3\n",
    "\n",
    "|   |   |   |   |\n",
    "|---|---|---|---|\n",
    "|   | 0 |   |   |\n",
    "|   |   | 0 |   |\n",
    "|   |   |   | 0 |"
   ]
  },
  {
   "cell_type": "markdown",
   "metadata": {},
   "source": [
    "Step 4\n",
    "\n",
    "|   |   |   |\n",
    "|---|---|---|\n",
    "|   | 0 |   |\n",
    "|   |   | 0 |"
   ]
  }
 ],
 "metadata": {
  "language_info": {
   "name": "python"
  },
  "orig_nbformat": 4
 },
 "nbformat": 4,
 "nbformat_minor": 2
}
