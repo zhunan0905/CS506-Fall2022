{
  "cells": [
    {
      "cell_type": "markdown",
      "metadata": {
        "id": "JpF8xhu7vZjB"
      },
      "source": [
        "# Worksheet 02\n",
        "\n",
        "Name:  Tian Tan\n",
        "UID: U68023245\n",
        "\n",
        "### Topics\n",
        "\n",
        "- Effective Programming Cont'd\n",
        "- Intro to Data Science\n",
        "\n",
        "### Effective Programming Cont'd\n",
        "\n",
        "Follow along with the live coding. You can write your code here:"
      ]
    },
    {
      "cell_type": "code",
      "execution_count": null,
      "metadata": {
        "id": "iS7xZCqCvZjJ",
        "colab": {
          "base_uri": "https://localhost:8080/",
          "height": 134
        },
        "outputId": "4021a019-a318-4e6f-8d84-74576758d7d7"
      },
      "outputs": [
        {
          "output_type": "error",
          "ename": "IndentationError",
          "evalue": "ignored",
          "traceback": [
            "\u001b[0;36m  File \u001b[0;32m\"<tokenize>\"\u001b[0;36m, line \u001b[0;32m19\u001b[0m\n\u001b[0;31m    def is_queen(self, i, j):\u001b[0m\n\u001b[0m    ^\u001b[0m\n\u001b[0;31mIndentationError\u001b[0m\u001b[0;31m:\u001b[0m unindent does not match any outer indentation level\n"
          ]
        }
      ],
      "source": [
        "class SquareBoard:\n",
        "\n",
        "    def __init__(self, N):\n",
        "        self.N = N\n",
        "        self.board = [[\"-\" for _ in range(N)] for _ in range(N)]\n",
        "\n",
        "    def print_board(self):\n",
        "        for row in self.board:\n",
        "            for item in row:\n",
        "                print(item, end=\" \")\n",
        "            print()\n",
        "\n",
        "b = SquareBoard(8)\n",
        "b.print_board()\n",
        "\n",
        "def set_queen_at(self, i, j):\n",
        "        self.board[i][j] = \"**\"\n",
        "\n",
        "    def is_queen(self, i, j):\n",
        "        return self.board[i][j] == \"**\"\n",
        "\n",
        "    def get_queen_on(self, i):\n",
        "        for j in range(self.N):\n",
        "            if self.is_queen(i, j):\n",
        "                return j\n",
        "        raise ValueError(\"programmer error: no queen on row\")\n",
        "\n",
        "\n",
        "    def unset_queen_on(self, i):\n",
        "        self.board[i] = [\"-\" for _ in range(self.N)]\n",
        "\n",
        "    def num_queens(self):\n",
        "        num_queens = 0\n",
        "        for i in range(self.N):\n",
        "            for j in range(self.N):\n",
        "                if self.is_queen(i, j):\n",
        "                    num_queens += 1\n",
        "        return num_queens\n",
        "\n",
        "    def is_valid_row(self, i, j):\n",
        "        for k in range(self.N):\n",
        "            if self.is_queen(i, k) and k != j:\n",
        "                return False\n",
        "        return True\n",
        "\n",
        "    def is_valid_col(self, i, j):\n",
        "        for k in range(self.N):\n",
        "            if self.is_queen(k, j) and k != i:\n",
        "                return False\n",
        "        return True\n",
        "\n",
        "    def is_valid_diag(self, i, j):\n",
        "        for k in range(1, self.N):\n",
        "            if i + k < self.N:\n",
        "                if j + k < self.N:\n",
        "                    if self.is_queen(i + k, j + k):\n",
        "                        return False\n",
        "                if j - k >= 0:\n",
        "                    if self.is_queen(i + k, j - k):\n",
        "                        return False\n",
        "            if i - k >= 0:\n",
        "                if j + k < self.N:\n",
        "                    if self.is_queen(i - k, j + k):\n",
        "                        return False\n",
        "                if j - k >= 0:\n",
        "                    if self.is_queen(i - k, j - k):\n",
        "                        return False\n",
        "        return True\n",
        "\n",
        "    def is_valid_move(self, i, j):\n",
        "        if j >= self.N:\n",
        "            # this is to catch the case where the Q is\n",
        "            # at the last possible column in a row\n",
        "            # and we are backtracking to the previous row\n",
        "            return False\n",
        "        if self.num_queens() > 8:\n",
        "            return False\n",
        "        if not self.is_valid_row(i, j):\n",
        "            return False\n",
        "        if not self.is_valid_col(i, j):\n",
        "            return False\n",
        "        if not self.is_valid_diag(i, j):\n",
        "            return False\n",
        "        return True\n",
        "\n",
        "    def print_solutions(self):\n",
        "        row = 0\n",
        "        col = 0\n",
        "        nsols = 1\n",
        "        while row >= 0:\n",
        "            if row < self.N:\n",
        "            # we are searching for a solution\n",
        "                if self.is_valid_move(row, col):\n",
        "                    self.set_queen_at(row, col)\n",
        "                    row += 1\n",
        "                    col = 0\n",
        "                else:\n",
        "                    if col < self.N - 1:\n",
        "                        col += 1\n",
        "                    else:\n",
        "                        # backtrack\n",
        "                        if row == 0:\n",
        "                            # no solutions\n",
        "                            return\n",
        "                        row -= 1\n",
        "                        col = self.get_queen_on(row) + 1\n",
        "                        self.unset_queen_on(row)\n",
        "\n",
        "            else:\n",
        "                # we have found a solution\n",
        "                print(\"Solution \" + str(nsols))\n",
        "                self.print_board()\n",
        "                nsols += 1\n",
        "                input(\"Enter for next solution: \")\n",
        "                os.system(\"clear\")\n",
        "\n",
        "                row -= 1\n",
        "                col = self.get_queen_on(row) + 1\n",
        "                self.unset_queen_on(row)"
      ]
    },
    {
      "cell_type": "markdown",
      "metadata": {
        "id": "aaaEsYTivZjL"
      },
      "source": [
        "### Intro to Data Science\n",
        "\n",
        "a) what property must a hypothesis have?"
      ]
    },
    {
      "cell_type": "markdown",
      "metadata": {
        "id": "QtPWWyiqvZjM"
      },
      "source": [
        "Hypothesis must be testable. It should be tested observations or experiments about the natural world. "
      ]
    },
    {
      "cell_type": "markdown",
      "metadata": {
        "id": "p9IuNScnvZjM"
      },
      "source": [
        "b) what examples would you have wanted to try?"
      ]
    },
    {
      "cell_type": "markdown",
      "metadata": {
        "id": "XlS0zDYTvZjN"
      },
      "source": [
        "\n",
        "\n",
        "*   (4, 6, 10) — YES\n",
        "*   (2, 8, 20) — YES\n",
        "*   (1, 4, 8) — NO\n",
        "*   (8, 2, 20) — NO \n",
        "\n",
        "Reason：Assuming the hypothesis h is (x1, x2, x3). Rules are x1 < x2 < x3 and all three numbers are even."
      ]
    },
    {
      "cell_type": "markdown",
      "metadata": {
        "id": "O6LbcZ4OvZjO"
      },
      "source": [
        "c) Poll 1"
      ]
    },
    {
      "cell_type": "markdown",
      "metadata": {
        "id": "L4_sZXxNvZjO"
      },
      "source": [
        "The Poll 1 from slides, I will select A: (100, 102, 104)"
      ]
    },
    {
      "cell_type": "markdown",
      "metadata": {
        "id": "i3dkjX4jvZjP"
      },
      "source": [
        "d) Given the hypothesis (x, 2x, 3x), for each of the following, determine whether they are positive or negative examples:\n",
        "\n",
        "- (2, 4, 6)\n",
        "- (6, 8 , 10)\n",
        "- (1, 3, 5)"
      ]
    },
    {
      "cell_type": "markdown",
      "metadata": {
        "id": "vAh3zzpKvZjQ"
      },
      "source": [
        "(2,4,6):  Positive. \\\\\n",
        "(6,8,10):  Negative. \\\\\n",
        "(1,3,5):  Negative."
      ]
    },
    {
      "cell_type": "markdown",
      "metadata": {
        "id": "MAZED-BJvZjQ"
      },
      "source": [
        "e) Poll 2"
      ]
    },
    {
      "cell_type": "markdown",
      "metadata": {
        "id": "y94eIyhgvZjR"
      },
      "source": [
        "The Poll 2 from slides, I will select B: (5, 7, 9)"
      ]
    },
    {
      "cell_type": "markdown",
      "metadata": {
        "id": "VrqJoOORvZjS"
      },
      "source": [
        "f) Give a real world example for each of the following data types:\n",
        "\n",
        "- record\n",
        "- graph\n",
        "- image\n",
        "- text\n",
        "- time series\n"
      ]
    },
    {
      "cell_type": "markdown",
      "metadata": {
        "id": "uof3oRPDvZjT"
      },
      "source": [
        "\n",
        "\n",
        "*   record: Student Registration Course Information. (name, college, course) -> (Alex, CAS, CS506)\n",
        "*   graph: \n",
        "*   image:\n",
        "*   text:\n",
        "*   time series:\n",
        "\n",
        "\n"
      ]
    },
    {
      "cell_type": "markdown",
      "metadata": {
        "id": "8yA4UgEJvZjT"
      },
      "source": [
        "g) Give a real world example of unsupervised learning"
      ]
    },
    {
      "cell_type": "markdown",
      "metadata": {
        "id": "iLmue_a1vZjU"
      },
      "source": []
    },
    {
      "cell_type": "markdown",
      "metadata": {
        "id": "LaAM5rBSvZjU"
      },
      "source": [
        "h) Give a real world example of supervised learning"
      ]
    },
    {
      "cell_type": "markdown",
      "metadata": {
        "id": "3runXdu6vZjU"
      },
      "source": []
    },
    {
      "cell_type": "markdown",
      "metadata": {
        "id": "YamAe0RuvZjU"
      },
      "source": [
        "i) Describe steps of a Data Science Workflow"
      ]
    },
    {
      "cell_type": "markdown",
      "metadata": {
        "id": "PzC7v_4cvZjV"
      },
      "source": []
    }
  ],
  "metadata": {
    "language_info": {
      "name": "python"
    },
    "orig_nbformat": 4,
    "colab": {
      "provenance": [],
      "collapsed_sections": []
    },
    "kernelspec": {
      "name": "python3",
      "display_name": "Python 3"
    }
  },
  "nbformat": 4,
  "nbformat_minor": 0
}