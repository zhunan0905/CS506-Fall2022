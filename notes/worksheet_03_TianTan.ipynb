{
 "cells": [
  {
   "cell_type": "markdown",
   "metadata": {},
   "source": [
    "# Worksheet 03\n",
    "\n",
    "Name:  Tian Tan\n",
    "UID: U68023245\n",
    "\n",
    "### Topics\n",
    "\n",
    "- Intro to DS (part 2)\n",
    "- Distance & Similarity\n",
    "\n",
    "### Before Class\n",
    "\n",
    "Read through the [linear algebra review](https://github.com/gallettilance/CS506-Fall2022/raw/master/worksheets/lecture_03_linear_algebra_review.pdf) before next class\n",
    "\n",
    "### Intro to DS (part 2)\n",
    "\n",
    "a) Give a real world example for each of the following data types:\n",
    "\n",
    "- record\n",
    "- graph\n",
    "- image\n",
    "- text\n",
    "- time series"
   ]
  },
  {
   "cell_type": "markdown",
   "metadata": {},
   "source": [
    "\n",
    "\n",
    "*   record: Student Registration Course Information. input a student record. (name, college, course) -> (Alex, CAS, CS506)\n",
    "*   graph: Find the shortest path. Input graphs and find the shortest path in the graphs.\n",
    "*   image: Face recognition system. Input is real human face for training and predicting.\n",
    "*   text: Semantic Analysis. Analyze the sentiment/emotion of a sentence of text\n",
    "*   time series: Modeling global temperature. These temperature data are time series data. In addition, weather records, economic indicators, and patient health evolution indicators are also time series data.\n",
    "\n",
    "\n"
   ]
  },
  {
   "cell_type": "markdown",
   "metadata": {},
   "source": [
    "b) Give a real world example of unsupervised learning"
   ]
  },
  {
   "cell_type": "markdown",
   "metadata": {},
   "source": [
    "For example, the recommendation system of online shopping platforms such as Amazon. They will recommend some related products according to the user's browsing behavior, and some products are recommended by unsupervised learning through clustering. The system will find some users with similar purchasing behavior, and recommend the most \"liked\" products for such users."
   ]
  },
  {
   "cell_type": "markdown",
   "metadata": {},
   "source": [
    "c) Give a real world example of supervised learning"
   ]
  },
  {
   "cell_type": "markdown",
   "metadata": {},
   "source": [
    "Such as license plate recognition system. We first obtain a model by training a large number of labeled license plates. Then enter the license plate number we need to predict into the model, and then we can get a prediction result. In addition to this, there are object recognition systems. These are all examples of supervised learning"
   ]
  },
  {
   "cell_type": "markdown",
   "metadata": {},
   "source": [
    "d) Describe steps of a Data Science Workflow"
   ]
  },
  {
   "cell_type": "markdown",
   "metadata": {},
   "source": [
    "This is a circular process of continuous improvement.\n",
    "\n",
    "First, after we collect the data, we need to process the data. \n",
    "\n",
    "Then, we need to explore data.\n",
    "\n",
    "Next, we need to extract features from the data.\n",
    "\n",
    "Finally, we build the model.\n",
    "\n",
    "Any of these processes can give feedback and improve the previous one.\n"
   ]
  },
  {
   "cell_type": "markdown",
   "metadata": {},
   "source": [
    "### Distance & Similarity\n",
    "\n",
    "#### Part 1\n",
    "\n",
    "a) In the minkowski distance, describe what the parameters p and d are."
   ]
  },
  {
   "cell_type": "markdown",
   "metadata": {},
   "source": [
    "p is the parameter indicating whether we are using the Euclidean or Manhattan method. When p = 2, it is Euclidean Distance which squares the difference between the two points and takes the square root. When p = 1, it is the absolute value of the difference between two points.\n",
    "\n",
    "d represents the dimensionality. When d = 2, it shows that the points are in a two-dimensional plane. When d = 3, it is a 3-D space."
   ]
  },
  {
   "cell_type": "markdown",
   "metadata": {},
   "source": [
    "b) In your own words describe the difference between the Euclidean distance and the Manhattan distance."
   ]
  },
  {
   "cell_type": "markdown",
   "metadata": {},
   "source": [
    "Euclidean distance is the shortest path between source and destination which is a straight line that can be in any direction. And it's unique.\n",
    "\n",
    "Manhattan distance is the sum of all horizontal and vertical line segments connecting a given pair of points in the grid/plot. It's not unique, sometimes we can have multiple different paths with the same Manhattan distance."
   ]
  },
  {
   "cell_type": "markdown",
   "metadata": {},
   "source": [
    "c) Describe what you think distance would look like when p is very large."
   ]
  },
  {
   "cell_type": "markdown",
   "metadata": {},
   "source": [
    "When p is very large, like infinite, actually, the Minkowski distance is the Chebyshev distance. The distance between two points is defined as the maximum value of the absolute value of each coordinate value difference. The most common example is the king's move in chess which can be considered as equal distances in 8 directions.\n"
   ]
  },
  {
   "cell_type": "markdown",
   "metadata": {},
   "source": [
    "d) Is the minkowski distance still a distance function when p < 1? Expain why / why not."
   ]
  },
  {
   "cell_type": "markdown",
   "metadata": {},
   "source": [
    "I think when p < 1, it is not a distance.\n",
    "\n",
    "If it is a distance function, some basic properties need to be met. For example, the triangle inequality, that is: dist(Xi,Xj) ≤ dist(Xi,Xk) + dist(Xk,Xj). \n",
    "\n",
    "Here is an example to show it. Assume that there are three points: Xi(0,0), Xj(1,1) and Xk(0,1). Using the minkowski function we can compute the distance between Xi and Xj as follows: \n",
    "\n",
    "dist(Xi,Xj) = (1+1)^(1/p). Since p < 1, then dist(Xi,Xj) is greater than 2. \n",
    "\n",
    "However, the distances dist(Xi,Xk) = dist(Xk,Xj) = 1. In this case, dist(Xi,Xj) > dist(Xi,Xk) + dist(Xk,Xj). This will no longer be a valid distance measurement function."
   ]
  },
  {
   "cell_type": "markdown",
   "metadata": {},
   "source": [
    "e) when would you use cosine similarity over the euclidan distance?"
   ]
  },
  {
   "cell_type": "markdown",
   "metadata": {},
   "source": [
    "When direction matters more than magnitude, we can use the cosine similarityover the euclidean distance."
   ]
  },
  {
   "cell_type": "markdown",
   "metadata": {},
   "source": [
    "f) what does the jaccard distance account for that the manhattan distance doesn't?"
   ]
  },
  {
   "cell_type": "markdown",
   "metadata": {},
   "source": [
    "Jaccard distance accounts for the size of the intersection."
   ]
  },
  {
   "cell_type": "markdown",
   "metadata": {},
   "source": [
    "#### Part 2\n",
    "\n",
    "(easier done after lab)\n",
    "\n",
    "Consider the following two sentences:"
   ]
  },
  {
   "cell_type": "code",
   "execution_count": null,
   "metadata": {},
   "outputs": [],
   "source": [
    "s1 = \"hello my name is Alice\"  \n",
    "s2 = \"hello my name is Bob\""
   ]
  },
  {
   "cell_type": "markdown",
   "metadata": {},
   "source": [
    "using the union of words from both sentences, we can represent each sentence as a vector. Each element of the vector represents the presence or absence of the word at that index.\n",
    "\n",
    "In this example, the union of words is (\"hello\", \"my\", \"name\", \"is\", \"Alice\", \"Bob\") so we can represent the above sentences as such:"
   ]
  },
  {
   "cell_type": "code",
   "execution_count": null,
   "metadata": {},
   "outputs": [],
   "source": [
    "v1 = [1,    1, 1,   1, 1,    0]\n",
    "#     hello my name is Alice\n",
    "v2 = [1,    1, 1,   1, 0, 1]\n",
    "#     hello my name is    Bob"
   ]
  },
  {
   "cell_type": "markdown",
   "metadata": {},
   "source": [
    "Let's add a new sentence to our corpus:"
   ]
  },
  {
   "cell_type": "code",
   "execution_count": null,
   "metadata": {},
   "outputs": [],
   "source": [
    "s3 = \"hi my name is Claude\""
   ]
  },
  {
   "cell_type": "markdown",
   "metadata": {},
   "source": [
    "a) What is the new union of words used to represent s1, s2, and s3?"
   ]
  },
  {
   "cell_type": "markdown",
   "metadata": {},
   "source": [
    "Union of words is (\"hi\", \"hello\", \"my\", \"name\", \"is\", \"Claude\", \"Alice\", \"Bob\")"
   ]
  },
  {
   "cell_type": "markdown",
   "metadata": {},
   "source": [
    "b) Represent s1, s2, and s3 as vectors as above"
   ]
  },
  {
   "cell_type": "code",
   "execution_count": null,
   "metadata": {},
   "outputs": [],
   "source": [
    "v1 = [1,    0, 1, 1,   1, 1,    0,  0]\n",
    "#     hello    my name is Alice\n",
    "v2 = [1,    0, 1, 1,   1, 0,    1,  0]\n",
    "#     hello    my name is       Bob\n",
    "v3 = [0,    1, 1, 1,   1, 0,    0,  1]\n",
    "#           hi my name is           Claude"
   ]
  },
  {
   "cell_type": "markdown",
   "metadata": {},
   "source": [
    "c) Write a function that computes the manhattan distance between two vectors. Which pair of vectors are the most similar under that distance function?"
   ]
  },
  {
   "cell_type": "code",
   "execution_count": 10,
   "metadata": {},
   "outputs": [
    {
     "name": "stdout",
     "output_type": "stream",
     "text": [
      "2\n",
      "4\n",
      "4\n"
     ]
    }
   ],
   "source": [
    "\n",
    "def Manha_dist(v1, v2):\n",
    "    dist = 0\n",
    "    for i in range(len(v1)):\n",
    "        diff = abs(v1[i] - v2[i])\n",
    "        dist += diff \n",
    "    return dist\n",
    " \n",
    "v1 = [1,    0, 1, 1,   1, 1,    0,  0]\n",
    "v2 = [1,    0, 1, 1,   1, 0,    1,  0]\n",
    "v3 = [0,    1, 1, 1,   1, 0,    0,  1]\n",
    "print(Manha_dist(v1,v2))\n",
    "print(Manha_dist(v1,v3))\n",
    "print(Manha_dist(v2,v3)) \n",
    "\n"
   ]
  },
  {
   "cell_type": "markdown",
   "metadata": {},
   "source": [
    "v1 and v2 are the most similar"
   ]
  },
  {
   "cell_type": "markdown",
   "metadata": {},
   "source": [
    "d) Create a matrix of all these vectors (row major) and add the following sentences in vector form:\n",
    "\n",
    "- \"hi Alice\"\n",
    "- \"hello Claude\"\n",
    "- \"Bob my name is Claude\"\n",
    "- \"hi Claude my name is Alice\"\n",
    "- \"hello Bob\""
   ]
  },
  {
   "cell_type": "code",
   "execution_count": 11,
   "metadata": {},
   "outputs": [],
   "source": [
    "#     hi, hello,  my, name,  is,  Bob, Claude, Alice\n",
    "v1 = [1,    0,    0,   0,    0,    0,    0,    1]    # \"hi Alice\"\n",
    "v2 = [0,    1,    0,   0,    0,    0,    1,    0]    # \"hello Claude\"\n",
    "v3 = [0,    0,    1,   1,    1,    1,    1,    0]    # \"Bob my name is Claude\" \n",
    "v4 = [1,    0,    1,   1,    1,    0,    1,    1]    # \"hi Claude my name is Alice\"\n",
    "v5 = [0,    1,    0,   0,    0,    1,    0,    0]    # \"hello Bob\"\n",
    "\n",
    "Matrix = [\n",
    "            [1,    0,    0,   0,    0,    0,    0,    1],\n",
    "            [0,    1,    0,   0,    0,    0,    1,    0],\n",
    "            [0,    0,    1,   1,    1,    1,    1,    0],\n",
    "            [1,    0,    1,   1,    1,    0,    1,    1],\n",
    "            [0,    1,    0,   0,    0,    1,    0,    0]\n",
    "        ]\n"
   ]
  },
  {
   "cell_type": "markdown",
   "metadata": {},
   "source": [
    "e) How many rows and columns does this matrix have?"
   ]
  },
  {
   "cell_type": "markdown",
   "metadata": {},
   "source": [
    "This matrix has 8 columns and 5 rows."
   ]
  },
  {
   "cell_type": "markdown",
   "metadata": {},
   "source": [
    "f) When using the Jaccard distance, which two sentences are the most similar?"
   ]
  },
  {
   "cell_type": "markdown",
   "metadata": {},
   "source": [
    "The sentence, \"Bob my name is Claude\", and sentence, \"hi Claude my name is Alice\", are the most similar."
   ]
  }
 ],
 "metadata": {
  "kernelspec": {
   "display_name": "Python 3.10.4 64-bit",
   "language": "python",
   "name": "python3"
  },
  "language_info": {
   "codemirror_mode": {
    "name": "ipython",
    "version": 3
   },
   "file_extension": ".py",
   "mimetype": "text/x-python",
   "name": "python",
   "nbconvert_exporter": "python",
   "pygments_lexer": "ipython3",
   "version": "3.10.4"
  },
  "orig_nbformat": 4,
  "vscode": {
   "interpreter": {
    "hash": "06e1b59a59103655943294f4f3b04eefe20e2a955bd3f55b54c37d0b6b2640a7"
   }
  }
 },
 "nbformat": 4,
 "nbformat_minor": 2
}
